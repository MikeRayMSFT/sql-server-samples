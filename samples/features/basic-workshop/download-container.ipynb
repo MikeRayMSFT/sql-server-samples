{
    "metadata": {
        "kernelspec": {
            "name": "python3",
            "display_name": "Python 3"
        },
        "language_info": {
            "name": "python",
            "version": "3.6.6",
            "mimetype": "text/x-python",
            "codemirror_mode": {
                "name": "ipython",
                "version": 3
            },
            "pygments_lexer": "ipython3",
            "nbconvert_exporter": "python",
            "file_extension": ".py"
        }
    },
    "nbformat_minor": 2,
    "nbformat": 4,
    "cells": [
        {
            "cell_type": "markdown",
            "source": [
                "# Download a container\r\n",
                "\r\n",
                "This notebook:\r\n",
                "\r\n",
                "1. Pulls a container image. The container contains an instance of SQL Server with a sample database installed.\r\n",
                "2. Starts the container in docker on the local machine.\r\n",
                "\r\n",
                "  After the container has started, you can connect to the SQL Server instance.\r\n",
                "\r\n",
                "3. Stops the docker container.\r\n",
                "4. Removes the container image from docker. "
            ],
            "metadata": {
                "azdata_cell_guid": "491417cb-b92b-43bc-b87b-7e67bcae5589"
            }
        },
        {
            "cell_type": "markdown",
            "source": [
                "## Configure docker environment\r\n",
                "Make sure you have your docker environment configured, more information [here](https://docs.docker.com/get-started/). \r\n",
                "> NOTE\r\n",
                "> <br>If you are using Docker Desktop for Windows or Mac, the default configuration will limit your containers to 2 cores, regardless of the number of cores on your computer. Be sure to configure docker to allow at least 4 cores and 4GB of RAM for this demo to run properly. To do this, right click on the Docker Desktop icon in the status bar and choose Settings -> Advanced.\r\n",
                "\r\n",
                "The docker commands may take some time to execute, but you will not see progress here until they are complete.\r\n",
                ""
            ],
            "metadata": {
                "azdata_cell_guid": "c740199e-107b-484a-9994-6883680db75e"
            }
        },
        {
            "cell_type": "markdown",
            "source": [
                "\r\n",
                "## Pull the demo container"
            ],
            "metadata": {
                "azdata_cell_guid": "d5d350ba-e743-4c74-ad6d-b3977f0fef47"
            }
        },
        {
            "cell_type": "code",
            "source": [
                "! docker pull bluefooted/sql2019tempdbdemo"
            ],
            "metadata": {
                "azdata_cell_guid": "1c435674-3a29-43db-af14-3bbaeb69cba8"
            },
            "outputs": [],
            "execution_count": 10
        },
        {
            "cell_type": "markdown",
            "source": [
                "## Start the demo container"
            ],
            "metadata": {
                "azdata_cell_guid": "94a1d4c5-806b-4823-bbcc-527a46dcac53"
            }
        },
        {
            "cell_type": "code",
            "source": [
                "! docker run -e \"ACCEPT_EULA=Y\" -e \"SA_PASSWORD=P@ssw0rd!\" -p 1455:1433 --name sql2019tempdbdemo -d bluefooted/sql2019tempdbdemo"
            ],
            "metadata": {
                "azdata_cell_guid": "50d697be-9130-4bf8-8071-a670fce06a0c"
            },
            "outputs": [],
            "execution_count": 11
        },
        {
            "cell_type": "markdown",
            "source": [
                "## Connect to the demo SQL Server instance \r\n",
                "\r\n",
                "Use Azure Data Studio or SQL Server Management Studio using the following information:\r\n",
                "    \r\n",
                "**Server Name**: localhost,1455<br>\r\n",
                "**Username**: sa<br>\r\n",
                "**Password**: P@ssw0rd!"
            ],
            "metadata": {
                "azdata_cell_guid": "895b3f6a-1ba1-4480-9b06-9cfb2b3c246d"
            }
        },
        {
            "cell_type": "markdown",
            "source": [
                "## Stop SQL Server instance"
            ],
            "metadata": {
                "azdata_cell_guid": "33372217-7c15-4048-a89f-79a2893efb88"
            }
        },
        {
            "cell_type": "code",
            "source": [
                "! docker stop sql2019tempdbdemo"
            ],
            "metadata": {
                "azdata_cell_guid": "b821f61a-f58d-4c4e-93c3-84bb227862f1"
            },
            "outputs": [],
            "execution_count": 12
        },
        {
            "cell_type": "markdown",
            "source": [
                "## Remove container"
            ],
            "metadata": {
                "azdata_cell_guid": "f16d1c4a-95e7-4aba-8d99-14ab00363281"
            }
        },
        {
            "cell_type": "code",
            "source": [
                "! docker rm sql2019tempdbdemo"
            ],
            "metadata": {
                "azdata_cell_guid": "3733f6f6-cf5d-45ba-866f-dc4cafee4225"
            },
            "outputs": [],
            "execution_count": 13
        }
    ]
}
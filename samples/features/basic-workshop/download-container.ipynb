{
    "metadata": {
        "kernelspec": {
            "name": "python3",
            "display_name": "Python 3"
        },
        "language_info": {
            "name": "python",
            "version": "3.6.6",
            "mimetype": "text/x-python",
            "codemirror_mode": {
                "name": "ipython",
                "version": 3
            },
            "pygments_lexer": "ipython3",
            "nbconvert_exporter": "python",
            "file_extension": ".py"
        }
    },
    "nbformat_minor": 2,
    "nbformat": 4,
    "cells": [
        {
            "cell_type": "markdown",
            "source": [
                "# Query SQL Server in a container\r\n",
                "\r\n",
                "This notebook:\r\n",
                "\r\n",
                "1. Downloads a container image. The container contains an instance of SQL Server with a sample database installed.\r\n",
                "2. Starts the container in docker on the local machine.\r\n",
                "3. Connects to the SQL Server instance and queries a database\r\n",
                "4. Stops the docker container.\r\n",
                "5. Removes the container image from docker. "
            ],
            "metadata": {
                "azdata_cell_guid": "491417cb-b92b-43bc-b87b-7e67bcae5589"
            }
        },
        {
            "cell_type": "markdown",
            "source": [
                "## Prerequisites\r\n",
                "\r\n",
                "The notebook is designed to run on Windows in Azure Data Studio.\r\n",
                "\r\n",
                "* Add `pyodbc` package. Click Manage Packages above this page. \r\n",
                "* Add ODBC Driver 17 for SQL Server to the computer that is running this notebook."
            ],
            "metadata": {
                "azdata_cell_guid": "0ab51bbc-c06f-4d39-9277-6a1f9f1f32f4"
            }
        },
        {
            "cell_type": "markdown",
            "source": [
                "## Configure docker environment\r\n",
                "Make sure you have your docker environment configured, more information [here](https://docs.docker.com/get-started/). \r\n",
                "> NOTE\r\n",
                "> <br>If you are using Docker Desktop for Windows or Mac, the default configuration will limit your containers to 2 cores, regardless of the number of cores on your computer. Be sure to configure docker to allow at least 4 cores and 4GB of RAM for this demo to run properly. To do this, right click on the Docker Desktop icon in the status bar and choose Settings -> Advanced.\r\n",
                "\r\n",
                "The docker commands may take some time to execute, but you will not see progress here until they are complete.\r\n",
                ""
            ],
            "metadata": {
                "azdata_cell_guid": "c740199e-107b-484a-9994-6883680db75e"
            }
        },
        {
            "cell_type": "markdown",
            "source": [
                "\r\n",
                "## Pull the demo container"
            ],
            "metadata": {
                "azdata_cell_guid": "d5d350ba-e743-4c74-ad6d-b3977f0fef47"
            }
        },
        {
            "cell_type": "code",
            "source": [
                "! docker pull bluefooted/sql2019tempdbdemo"
            ],
            "metadata": {
                "azdata_cell_guid": "1c435674-3a29-43db-af14-3bbaeb69cba8"
            },
            "outputs": [
                {
                    "name": "stdout",
                    "text": "Using default tag: latest\nlatest: Pulling from bluefooted/sql2019tempdbdemo\nDigest: sha256:035a1bda5539bfe68ad1b2f032a6e389cea91a0cd880e75b83ef186c46b2e34f\nStatus: Image is up to date for bluefooted/sql2019tempdbdemo:latest\ndocker.io/bluefooted/sql2019tempdbdemo:latest\n",
                    "output_type": "stream"
                }
            ],
            "execution_count": 1
        },
        {
            "cell_type": "markdown",
            "source": [
                "## Start the demo container"
            ],
            "metadata": {
                "azdata_cell_guid": "94a1d4c5-806b-4823-bbcc-527a46dcac53"
            }
        },
        {
            "cell_type": "code",
            "source": [
                "! docker run -e \"ACCEPT_EULA=Y\" -e \"SA_PASSWORD=P@ssw0rd!\" -p 1455:1433 --name sql2019tempdbdemo -d bluefooted/sql2019tempdbdemo"
            ],
            "metadata": {
                "azdata_cell_guid": "50d697be-9130-4bf8-8071-a670fce06a0c"
            },
            "outputs": [
                {
                    "name": "stdout",
                    "text": "fbea7ca9ce3264284d714e03aa091b1e023a7c3472b1cf45253e6d10f35295ac\n",
                    "output_type": "stream"
                }
            ],
            "execution_count": 2
        },
        {
            "cell_type": "markdown",
            "source": [
                "## Connect & query "
            ],
            "metadata": {
                "azdata_cell_guid": "0e2a3536-ef1b-4606-869f-d35b039183bd"
            }
        },
        {
            "cell_type": "markdown",
            "source": [
                "### Set environment variables\r\n",
                "\r\n",
                "To connect to SQL Server, you need to import `pyodbc`, and set the server, database, username, and password.\r\n",
                "\r\n",
                "> NOTE\r\n",
                "> This example uses a hard-coded password. This is a terrible idea.\r\n",
                "\r\n",
                "The container is running on local host, but it uses a non-default TCP port of `1455`. This was set at the `docker run` command previously. \r\n",
                "\r\n",
                "You could also connect to the SQL Server with Azure Data Studio, sqlcmd, or SSMS using the values set here:\r\n",
                "\r\n",
                "   ```\r\n",
                "   server = 'localhost,1455'\r\n",
                "   database = 'Adventureworks'\r\n",
                "   username = 'sa'\r\n",
                "   password = 'P@ssw0rd!'\r\n",
                "   ```\r\n",
                "\r\n",
                ""
            ],
            "metadata": {
                "azdata_cell_guid": "f1aad92f-fd78-4a9f-be05-bcf612e9c6a4"
            }
        },
        {
            "cell_type": "code",
            "source": [
                "import pyodbc\r\n",
                "server = 'localhost,1455'\r\n",
                "database = 'Adventureworks'\r\n",
                "username = 'sa'\r\n",
                "password = 'P@ssw0rd!'"
            ],
            "metadata": {
                "azdata_cell_guid": "516b08ad-27e8-473f-a3c5-0241052fcbfb"
            },
            "outputs": [],
            "execution_count": 3
        },
        {
            "cell_type": "markdown",
            "source": [
                "### Set connection string\r\n",
                "\r\n",
                "With the environment variables set, you can now set the connections string. "
            ],
            "metadata": {
                "azdata_cell_guid": "3f5e1806-edef-40ca-8534-ee2bcb3ce435"
            }
        },
        {
            "cell_type": "code",
            "source": [
                "#Connection String\r\n",
                "connection = pyodbc.connect('DRIVER={ODBC Driver 17 for SQL Server};SERVER='+server+';DATABASE='+database+';UID='+username+';PWD='+ password)\r\n",
                "cursor = connection.cursor()"
            ],
            "metadata": {
                "azdata_cell_guid": "b87eb6fe-fe27-44f0-b39e-5d7f4728326c",
                "tags": []
            },
            "outputs": [],
            "execution_count": 4
        },
        {
            "cell_type": "markdown",
            "source": [
                "### Query SQL Server\r\n",
                "\r\n",
                "The following query returns a list of every person in the sample database with a last name begins with \"Ti\".\r\n",
                "\r\n",
                "This notebook is running a python kernel, so you need to wrap the T-SQL statement in Python. The actual T-SQL command is \r\n",
                "\r\n",
                "```sql\r\n",
                "SELECT DISTINCT FirstName + ' ' + LastName FROM Person.Person WHERE LastName LIKE 'Ti%';\r\n",
                "```"
            ],
            "metadata": {
                "azdata_cell_guid": "bd8c5243-2b44-4fc5-9c1a-3771c1367f6f"
            }
        },
        {
            "cell_type": "code",
            "source": [
                "#Sample select query\r\n",
                "cursor.execute(\"SELECT DISTINCT FirstName + ' ' + LastName FROM Person.Person WHERE LastName LIKE 'Ti%';\")\r\n",
                "row = cursor.fetchone()\r\n",
                "while row:\r\n",
                "    print (row[0])\r\n",
                "    row = cursor.fetchone()"
            ],
            "metadata": {
                "azdata_cell_guid": "e60aa23f-74a1-4dd8-888c-df990b08b1be"
            },
            "outputs": [
                {
                    "name": "stdout",
                    "text": "Danielle Tiedt\nDiane Tibbott\nHung-Fu Ting\nJohn Tippett\nMike Tiano\nTony Ting\nYuping Tian\n",
                    "output_type": "stream"
                }
            ],
            "execution_count": 5
        },
        {
            "cell_type": "markdown",
            "source": [
                "## Stop SQL Server instance"
            ],
            "metadata": {
                "azdata_cell_guid": "33372217-7c15-4048-a89f-79a2893efb88"
            }
        },
        {
            "cell_type": "code",
            "source": [
                "! docker stop sql2019tempdbdemo"
            ],
            "metadata": {
                "azdata_cell_guid": "b821f61a-f58d-4c4e-93c3-84bb227862f1"
            },
            "outputs": [
                {
                    "name": "stdout",
                    "text": "sql2019tempdbdemo\n",
                    "output_type": "stream"
                }
            ],
            "execution_count": 6
        },
        {
            "cell_type": "markdown",
            "source": [
                "## Remove container"
            ],
            "metadata": {
                "azdata_cell_guid": "f16d1c4a-95e7-4aba-8d99-14ab00363281"
            }
        },
        {
            "cell_type": "code",
            "source": [
                "! docker rm sql2019tempdbdemo"
            ],
            "metadata": {
                "azdata_cell_guid": "3733f6f6-cf5d-45ba-866f-dc4cafee4225"
            },
            "outputs": [
                {
                    "name": "stdout",
                    "text": "sql2019tempdbdemo\n",
                    "output_type": "stream"
                }
            ],
            "execution_count": 7
        }
    ]
}
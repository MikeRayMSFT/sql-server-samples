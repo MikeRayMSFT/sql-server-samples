{
    "metadata": {
        "kernelspec": {
            "name": "python3",
            "display_name": "Python 3"
        },
        "language_info": {
            "name": "python",
            "version": "3.6.6",
            "mimetype": "text/x-python",
            "codemirror_mode": {
                "name": "ipython",
                "version": 3
            },
            "pygments_lexer": "ipython3",
            "nbconvert_exporter": "python",
            "file_extension": ".py"
        }
    },
    "nbformat_minor": 2,
    "nbformat": 4,
    "cells": [
        {
            "cell_type": "markdown",
            "source": [
                "# Text cell\r\n",
                "\r\n",
                "Write content, using markdown in a text cell to decscribe related concepts.\r\n",
                "\r\n",
                "You can also explain what the code cells are doing. \r\n",
                "\r\n",
                "The following code cell adds two and three and then prints the results."
            ],
            "metadata": {
                "azdata_cell_guid": "6b3e8228-192e-4e8f-8064-3a190af34748"
            }
        },
        {
            "cell_type": "code",
            "source": [
                "# This code block adds 2 and 3 and print the sum.\n",
                "\n",
                "sum = 500 + 3\n",
                " \n",
                "print(\"sum:\", sum)"
            ],
            "metadata": {
                "azdata_cell_guid": "664dd0ea-de01-4646-93f7-0047b22426d6",
                "name": "addition",
                "tags": []
            },
            "outputs": [],
            "execution_count": 1
        },
        {
            "cell_type": "markdown",
            "source": [
                "## Plot graphs\r\n",
                "\r\n",
                "You can also plot graphs, using code. \r\n",
                "\r\n",
                "See the example, below. "
            ],
            "metadata": {
                "azdata_cell_guid": "5fe17575-8c0c-4b98-bcca-450f0a0a0f6f"
            }
        },
        {
            "cell_type": "code",
            "source": [
                "import matplotlib.pyplot as plt\n",
                "plt.plot([1, 2, 3, 4])\n",
                "plt.ylabel('some numbers')\n",
                "plt.show()"
            ],
            "metadata": {
                "azdata_cell_guid": "b7ac63c3-3bb0-4a60-b164-108898d71727",
                "name": "simple-plot"
            },
            "outputs": [],
            "execution_count": 2
        },
        {
            "cell_type": "markdown",
            "source": [
                "## Complicated, and interactive graphs\r\n",
                "\r\n",
                "The following example uses `numpy.linspace()` to return evenly spaced numbers across a specified interval. \r\n",
                "\r\n",
                "```python\r\n",
                "np.linspace(start, stop, number)\r\n",
                "```\r\n",
                "\r\n",
                "The code sample plots the results. \r\n",
                "\r\n",
                "Change the numbers in line `4` to see how it affects the results in the graph. "
            ],
            "metadata": {
                "azdata_cell_guid": "7437237b-c8f9-4e8a-b1fe-0aa8597f05f5"
            }
        },
        {
            "cell_type": "code",
            "source": [
                "import matplotlib.pyplot as plt\n",
                "import numpy as np\n",
                "\n",
                "x=np.linspace(1, 20, 200)   # Create a list of evenly spaced numbers over the range\n",
                "plt.plot(x, np.sin(x))      # Plot the sine of each x point \n",
                "plt.show()                  # Display the plot"
            ],
            "metadata": {
                "name": "complex-plot",
                "azdata_cell_guid": "adebace8-d7e7-4544-b832-c652a005bef6"
            },
            "outputs": [],
            "execution_count": 4
        }
    ]
}